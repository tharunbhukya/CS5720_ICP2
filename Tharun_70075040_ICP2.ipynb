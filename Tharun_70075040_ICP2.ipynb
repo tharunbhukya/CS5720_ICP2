{
  "nbformat": 4,
  "nbformat_minor": 0,
  "metadata": {
    "colab": {
      "provenance": []
    },
    "kernelspec": {
      "name": "python3",
      "display_name": "Python 3"
    },
    "language_info": {
      "name": "python"
    }
  },
  "cells": [
    {
      "cell_type": "code",
      "execution_count": 7,
      "metadata": {
        "colab": {
          "base_uri": "https://localhost:8080/"
        },
        "id": "0NTi7loGVDnd",
        "outputId": "8c19dc43-37e4-4363-89b2-d7e1ebe5a08d"
      },
      "outputs": [
        {
          "output_type": "stream",
          "name": "stdout",
          "text": [
            "Enter your first_name here:Tharun\n",
            "Enter your last_name here:Bhukya\n",
            "Tharun Bhukya\n",
            "Tau hka\n"
          ]
        }
      ],
      "source": [
        "def full_name():\n",
        "    try:\n",
        "        inp_a = str(input(\"Enter your first_name here:\"))\n",
        "        inp_b = str(input(\"Enter your last_name here:\"))\n",
        "        if validate_inp(inp_a) and validate_inp(inp_b):\n",
        "            full_name = inp_a + \" \" + inp_b\n",
        "            print(full_name)\n",
        "            return full_name\n",
        "        else:\n",
        "            print(\"please enter a valid string\")\n",
        "    except Exception as error:\n",
        "        print(\"Error occured {}\".format(error))\n",
        "\n",
        "def validate_inp(input_value):\n",
        "\n",
        "    if input_value != '' and input_value is not None and input_value.isspace() != True and input_value.isnumeric() != True:\n",
        "        return True\n",
        "    else:\n",
        "        return False\n",
        "\n",
        "def string_alternative(full_name):\n",
        "    try:\n",
        "        inp_1 = full_name\n",
        "        print(inp_1[::2])\n",
        "    except Exception as error:\n",
        "        print(\"Error occured {}\".format(error))\n",
        "\n",
        "if __name__ == \"__main__\":\n",
        "    f = full_name()\n",
        "    string_alternative(f)"
      ]
    },
    {
      "cell_type": "code",
      "source": [
        "with open('input.txt','r') as input_file:\n",
        "        a = dict()\n",
        "        for sentence in input_file:\n",
        "            sentence = sentence.strip()\n",
        "            sentence = sentence.lower()\n",
        "            words = sentence.split(\" \")\n",
        "            for word in words:\n",
        "                if word in a:\n",
        "                    a[word] = a[word] + 1\n",
        "                else:\n",
        "                    a[word] = 1\n",
        "        with open('Output.txt','w') as output_file:\n",
        "            for key in list(a.keys()):\n",
        "                print(key,\":\",a[key],file = output_file)\n"
      ],
      "metadata": {
        "id": "fu-9aDy_VRz6"
      },
      "execution_count": 8,
      "outputs": []
    },
    {
      "cell_type": "code",
      "source": [
        "heights_list = []\n",
        "heights_in_cm = []\n",
        "while True:\n",
        "    inp_1 = input(\"Enter heights of customers(inches) (press q to quit):\")\n",
        "    if inp_1 == 'q':\n",
        "        break\n",
        "    else:\n",
        "        heights_list.append(inp_1)\n",
        "\n",
        "print(\"L1: \",heights_list)\n",
        "heights_in_cm = [int(height) * 2.54 for height in heights_list]\n",
        "print(\"Output: \", heights_in_cm)\n",
        "\n",
        "\n"
      ],
      "metadata": {
        "colab": {
          "base_uri": "https://localhost:8080/"
        },
        "id": "Q5XW2i3KVYaA",
        "outputId": "1457d9d6-21a8-48f7-b348-d78bc3b8d9ff"
      },
      "execution_count": 6,
      "outputs": [
        {
          "output_type": "stream",
          "name": "stdout",
          "text": [
            "Enter heights of customers(inches) (press q to quit):150\n",
            "Enter heights of customers(inches) (press q to quit):145\n",
            "Enter heights of customers(inches) (press q to quit):155\n",
            "Enter heights of customers(inches) (press q to quit):148\n",
            "Enter heights of customers(inches) (press q to quit):q\n",
            "L1:  ['150', '145', '155', '148']\n",
            "Output:  [381.0, 368.3, 393.7, 375.92]\n"
          ]
        }
      ]
    }
  ]
}